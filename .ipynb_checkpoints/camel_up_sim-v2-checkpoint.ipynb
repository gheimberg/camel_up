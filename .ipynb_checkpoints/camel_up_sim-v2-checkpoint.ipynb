{
 "cells": [
  {
   "cell_type": "code",
   "execution_count": 1,
   "metadata": {
    "collapsed": true
   },
   "outputs": [],
   "source": [
    "## Camel Cup\n",
    "\n",
    "class camel:\n",
    "    # define the camel object\n",
    "    #    - stores all important info about a single camel\n",
    "    \n",
    "    def __init__(self, color):\n",
    "        # which camel is directly above the current camel\n",
    "        self.camel_above = -1\n",
    "        self.camel_below = -1\n",
    "        # where is the current camel on the board\n",
    "        self.square = 0\n",
    "        self.color = color\n",
    "        "
   ]
  },
  {
   "cell_type": "code",
   "execution_count": 2,
   "metadata": {
    "collapsed": true
   },
   "outputs": [],
   "source": [
    "def move_camel_to(curr_camel_ind, new_square, all_camels):\n",
    "    curr_camel = all_camels[curr_camel_ind]\n",
    "    # if there is a camel on that square below curr_camel, change it to top...aka remove camel_above for camel below curr_camel\n",
    "    for i,camel in enumerate(all_camels):\n",
    "        if (camel.square == curr_camel.square) and (camel.camel_above == curr_camel_ind):\n",
    "            # change below camel to new top\n",
    "            all_camels[i].camel_above = -1\n",
    "            # change current camel to new bottom\n",
    "            all_camels[curr_camel_ind].camel_below = -1\n",
    "            \n",
    "    # check updated state\n",
    "    print('Remove camel_above of camel directly below?')\n",
    "    print_camel_states(all_camels)\n",
    "    \n",
    "    # if a camel is already in the space, put this camel above it\n",
    "    for i,camel in enumerate(all_camels):\n",
    "        if (camel.square == new_square) and (camel.camel_above == -1) and (i != curr_camel_ind):\n",
    "            all_camels[i].camel_above = curr_camel_ind\n",
    "            all_camels[curr_camel_ind].camel_below = i\n",
    "            \n",
    "    # check updated state\n",
    "    print('is there is already a camel in the new square? if so, put this camel to the top?')    \n",
    "    print_camel_states(all_camels)            \n",
    "            \n",
    "    # move the current camel forward\n",
    "    curr_camel.square = new_square\n",
    "    \n",
    "    # check updated state\n",
    "    print('move the camel forward, but not with anything above it yet')\n",
    "    print_camel_states(all_camels)            \n",
    "\n",
    "    # move the board position of all respective camels above\n",
    "    camel_ontop = curr_camel.camel_above\n",
    "    while camel_ontop != -1:\n",
    "        all_camels[camel_ontop].square = new_square\n",
    "        camel_ontop = all_camels[camel_ontop].camel_above\n",
    "\n",
    "    # check updated state\n",
    "    print('move all camels ontop of this one forward')\n",
    "    print_camel_states(all_camels)\n",
    "    \n",
    "    # return new camel states\n",
    "    return all_camels\n",
    "\n",
    "def print_camel_states(all_camels):\n",
    "    print(\"Color\", '\\t', \"Loc\", '\\t', \"Above\", '\\t', \"Below\")\n",
    "    for camel in all_camels:\n",
    "        print(camel.color, '\\t', camel.square, '\\t', camel.camel_above, '\\t', camel.camel_below)\n",
    "    print()\n",
    "    "
   ]
  },
  {
   "cell_type": "code",
   "execution_count": 3,
   "metadata": {
    "collapsed": false
   },
   "outputs": [
    {
     "ename": "IndentationError",
     "evalue": "expected an indented block (<ipython-input-3-5586cb92e687>, line 5)",
     "output_type": "error",
     "traceback": [
      "\u001b[1;36m  File \u001b[1;32m\"<ipython-input-3-5586cb92e687>\"\u001b[1;36m, line \u001b[1;32m5\u001b[0m\n\u001b[1;33m    def print_board(all_camels):\u001b[0m\n\u001b[1;37m      ^\u001b[0m\n\u001b[1;31mIndentationError\u001b[0m\u001b[1;31m:\u001b[0m expected an indented block\n"
     ]
    }
   ],
   "source": [
    "def find_camel_below(camel_ind, camel_list):\n",
    "    \n",
    "\n",
    "def place_camel_above(camel_ind, camel_list):\n",
    "    \n",
    "    \n",
    "    \n",
    "\n",
    "def print_board(all_camels):\n",
    "    board  = [[] for i in range(20)]\n",
    "    \n",
    "    \n",
    "    for camel in all_camels:\n",
    "        board[camel.square].append(camel)\n",
    "        \n",
    "    #Rearrange Order of Camels Based On Stack\n",
    "    for square in board:\n",
    "        if len(square) > 1:\n",
    "            for camel in square:\n",
    "                camel_ontop = curr_camel.camel_above\n",
    "                while camel_ontop != -1:\n",
    "                    all_camels[camel_ontop].square = new_square\n",
    "                    camel_ontop = all_camels[camel_ontop].camel_above\n",
    "        \n",
    "            camel_ontop = curr_camel.camel_above\n",
    "    while camel_ontop != -1:\n",
    "        all_camels[camel_ontop].square = new_square\n",
    "        camel_ontop = all_camels[camel_ontop].camel_above\n",
    "        \n",
    "        \n",
    "                \n",
    "                if camel.camel_above == -1:\n",
    "                    \n",
    "                if camel.camel_below == -1:\n",
    "                    \n",
    "                else:\n",
    "                    \n",
    "                \n",
    "    \n",
    "    \n",
    "    \n",
    "    #while remaining_camels:\n",
    "     #   curr_camel = remaning_camels.pop()\n",
    "      #  if board[curr_camel.square]:\n",
    "       #     board[curr_camel.square] = curr_camel\n",
    "        #    camel_ontop = curr_camel.camel_above\n",
    "         #   while camel_ontop != -1:\n",
    "          #      all_camels[camel_ontop].square = new_square\n",
    "    #    camel_ontop = all_camels[camel_ontop].camel_above\n",
    "            \n",
    "      #  else:\n",
    "       #     board[camel.square].insert(0,camel)\n",
    "        \n",
    "        #if camel.camel_above == -1:\n",
    "            #board[camel.square].append(camel.color)\n",
    "    for square in board:\n",
    "        square_list = []\n",
    "        if square:\n",
    "            for camel in square:\n",
    "                square_list.append(camel.color)\n",
    "            print(square_list)\n",
    "        else:\n",
    "            print(\"-\")\n",
    "        \n",
    "                    \n",
    "    \n",
    "\n",
    "\n",
    "        \n",
    "    "
   ]
  },
  {
   "cell_type": "code",
   "execution_count": 4,
   "metadata": {
    "collapsed": false,
    "scrolled": false
   },
   "outputs": [
    {
     "ename": "NameError",
     "evalue": "name 'print_board' is not defined",
     "output_type": "error",
     "traceback": [
      "\u001b[1;31m---------------------------------------------------------------------------\u001b[0m",
      "\u001b[1;31mNameError\u001b[0m                                 Traceback (most recent call last)",
      "\u001b[1;32m<ipython-input-4-0d1f4581952e>\u001b[0m in \u001b[0;36m<module>\u001b[1;34m()\u001b[0m\n\u001b[1;32m----> 1\u001b[1;33m \u001b[0mprint_board\u001b[0m\u001b[1;33m(\u001b[0m\u001b[0mall_camels\u001b[0m\u001b[1;33m)\u001b[0m\u001b[1;33m\u001b[0m\u001b[0m\n\u001b[0m",
      "\u001b[1;31mNameError\u001b[0m: name 'print_board' is not defined"
     ]
    }
   ],
   "source": [
    "print_board(all_camels)"
   ]
  },
  {
   "cell_type": "code",
   "execution_count": 5,
   "metadata": {
    "collapsed": true
   },
   "outputs": [],
   "source": [
    "def clear_board():\n",
    "    all_camels = []\n",
    "    for color in ['orange', 'blue', 'green', 'yellow', 'white']:\n",
    "        all_camels.append(camel(color))\n",
    "    print_camel_states(all_camels)\n",
    "    return all_camels\n",
    "#all_camels is a list of OBJECTs not camels\n",
    "#print(all_camels) \n",
    "\n",
    "\n",
    "\n",
    "#No longer needed due to print_camel_states function\n",
    "#for curr_camel in all_camels:\n",
    "    #print(curr_camel.color)\n",
    "\n",
    "#Same as above but funky python syntax\n",
    "#[print(curr_camel.color) for curr_camel in all_camels]"
   ]
  },
  {
   "cell_type": "code",
   "execution_count": 11,
   "metadata": {
    "collapsed": false
   },
   "outputs": [
    {
     "name": "stdout",
     "output_type": "stream",
     "text": [
      "Color \t Loc \t Above \t Below\n",
      "orange \t 0 \t -1 \t -1\n",
      "blue \t 0 \t -1 \t -1\n",
      "green \t 0 \t -1 \t -1\n",
      "yellow \t 0 \t -1 \t -1\n",
      "white \t 0 \t -1 \t -1\n",
      "\n"
     ]
    }
   ],
   "source": [
    "all_camels = clear_board()"
   ]
  },
  {
   "cell_type": "code",
   "execution_count": 7,
   "metadata": {
    "collapsed": false
   },
   "outputs": [
    {
     "name": "stdout",
     "output_type": "stream",
     "text": [
      "Color \t Loc \t Above \t Below\n",
      "orange \t 0 \t -1 \t -1\n",
      "blue \t 0 \t -1 \t -1\n",
      "green \t 0 \t -1 \t -1\n",
      "yellow \t 0 \t -1 \t -1\n",
      "white \t 0 \t -1 \t -1\n",
      "\n"
     ]
    }
   ],
   "source": [
    "print_camel_states(all_camels)"
   ]
  },
  {
   "cell_type": "code",
   "execution_count": 8,
   "metadata": {
    "collapsed": false
   },
   "outputs": [
    {
     "name": "stdout",
     "output_type": "stream",
     "text": [
      "Remove camel_above of camel directly below?\n",
      "Color \t Loc \t Above \t Below\n",
      "orange \t 0 \t -1 \t -1\n",
      "blue \t 0 \t -1 \t -1\n",
      "green \t 0 \t -1 \t -1\n",
      "yellow \t 0 \t -1 \t -1\n",
      "white \t 0 \t -1 \t -1\n",
      "\n",
      "is there is already a camel in the new square? if so, put this camel to the top?\n",
      "Color \t Loc \t Above \t Below\n",
      "orange \t 0 \t -1 \t -1\n",
      "blue \t 0 \t -1 \t -1\n",
      "green \t 0 \t -1 \t -1\n",
      "yellow \t 0 \t -1 \t -1\n",
      "white \t 0 \t -1 \t -1\n",
      "\n",
      "move the camel forward, but not with anything above it yet\n",
      "Color \t Loc \t Above \t Below\n",
      "orange \t 2 \t -1 \t -1\n",
      "blue \t 0 \t -1 \t -1\n",
      "green \t 0 \t -1 \t -1\n",
      "yellow \t 0 \t -1 \t -1\n",
      "white \t 0 \t -1 \t -1\n",
      "\n",
      "move all camels ontop of this one forward\n",
      "Color \t Loc \t Above \t Below\n",
      "orange \t 2 \t -1 \t -1\n",
      "blue \t 0 \t -1 \t -1\n",
      "green \t 0 \t -1 \t -1\n",
      "yellow \t 0 \t -1 \t -1\n",
      "white \t 0 \t -1 \t -1\n",
      "\n"
     ]
    }
   ],
   "source": [
    "all_camels = move_camel_to(0,2,all_camels)"
   ]
  },
  {
   "cell_type": "code",
   "execution_count": 9,
   "metadata": {
    "collapsed": false
   },
   "outputs": [
    {
     "name": "stdout",
     "output_type": "stream",
     "text": [
      "Color \t Loc \t Above \t Below\n",
      "orange \t 2 \t -1 \t -1\n",
      "blue \t 0 \t -1 \t -1\n",
      "green \t 0 \t -1 \t -1\n",
      "yellow \t 0 \t -1 \t -1\n",
      "white \t 0 \t -1 \t -1\n",
      "\n"
     ]
    }
   ],
   "source": [
    "print_camel_states(all_camels)"
   ]
  },
  {
   "cell_type": "code",
   "execution_count": 10,
   "metadata": {
    "collapsed": false
   },
   "outputs": [
    {
     "name": "stdout",
     "output_type": "stream",
     "text": [
      "Remove camel_above of camel directly below?\n",
      "Color \t Loc \t Above \t Below\n",
      "orange \t 2 \t -1 \t -1\n",
      "blue \t 0 \t -1 \t -1\n",
      "green \t 0 \t -1 \t -1\n",
      "yellow \t 0 \t -1 \t -1\n",
      "white \t 0 \t -1 \t -1\n",
      "\n",
      "is there is already a camel in the new square? if so, put this camel to the top?\n",
      "Color \t Loc \t Above \t Below\n",
      "orange \t 2 \t 1 \t -1\n",
      "blue \t 0 \t -1 \t 0\n",
      "green \t 0 \t -1 \t -1\n",
      "yellow \t 0 \t -1 \t -1\n",
      "white \t 0 \t -1 \t -1\n",
      "\n",
      "move the camel forward, but not with anything above it yet\n",
      "Color \t Loc \t Above \t Below\n",
      "orange \t 2 \t 1 \t -1\n",
      "blue \t 2 \t -1 \t 0\n",
      "green \t 0 \t -1 \t -1\n",
      "yellow \t 0 \t -1 \t -1\n",
      "white \t 0 \t -1 \t -1\n",
      "\n",
      "move all camels ontop of this one forward\n",
      "Color \t Loc \t Above \t Below\n",
      "orange \t 2 \t 1 \t -1\n",
      "blue \t 2 \t -1 \t 0\n",
      "green \t 0 \t -1 \t -1\n",
      "yellow \t 0 \t -1 \t -1\n",
      "white \t 0 \t -1 \t -1\n",
      "\n"
     ]
    }
   ],
   "source": [
    "all_camels = move_camel_to(1,2,all_camels)"
   ]
  },
  {
   "cell_type": "code",
   "execution_count": 8,
   "metadata": {
    "collapsed": false
   },
   "outputs": [
    {
     "name": "stdout",
     "output_type": "stream",
     "text": [
      "Remove camel_above of camel directly below?\n",
      "Color \t Loc \t Above \t Below\n",
      "orange \t 2 \t 1 \t -1\n",
      "blue \t 2 \t -1 \t 0\n",
      "green \t 0 \t -1 \t -1\n",
      "yellow \t 0 \t -1 \t -1\n",
      "white \t 0 \t -1 \t -1\n",
      "\n",
      "is there is already a camel in the new square? if so, put this camel to the top?\n",
      "Color \t Loc \t Above \t Below\n",
      "orange \t 2 \t 1 \t -1\n",
      "blue \t 2 \t 3 \t 0\n",
      "green \t 0 \t -1 \t -1\n",
      "yellow \t 0 \t -1 \t 1\n",
      "white \t 0 \t -1 \t -1\n",
      "\n",
      "move the camel forward, but not with anything above it yet\n",
      "Color \t Loc \t Above \t Below\n",
      "orange \t 2 \t 1 \t -1\n",
      "blue \t 2 \t 3 \t 0\n",
      "green \t 0 \t -1 \t -1\n",
      "yellow \t 2 \t -1 \t 1\n",
      "white \t 0 \t -1 \t -1\n",
      "\n",
      "move all camels ontop of this one forward\n",
      "Color \t Loc \t Above \t Below\n",
      "orange \t 2 \t 1 \t -1\n",
      "blue \t 2 \t 3 \t 0\n",
      "green \t 0 \t -1 \t -1\n",
      "yellow \t 2 \t -1 \t 1\n",
      "white \t 0 \t -1 \t -1\n",
      "\n"
     ]
    }
   ],
   "source": [
    "all_camels = move_camel_to(3,2,all_camels)"
   ]
  },
  {
   "cell_type": "code",
   "execution_count": 9,
   "metadata": {
    "collapsed": false
   },
   "outputs": [
    {
     "name": "stdout",
     "output_type": "stream",
     "text": [
      "Remove camel_above of camel directly below?\n",
      "Color \t Loc \t Above \t Below\n",
      "orange \t 2 \t 1 \t -1\n",
      "blue \t 2 \t 3 \t 0\n",
      "green \t 0 \t -1 \t -1\n",
      "yellow \t 2 \t -1 \t 1\n",
      "white \t 0 \t -1 \t -1\n",
      "\n",
      "is there is already a camel in the new square? if so, put this camel to the top?\n",
      "Color \t Loc \t Above \t Below\n",
      "orange \t 2 \t 1 \t -1\n",
      "blue \t 2 \t 3 \t 0\n",
      "green \t 0 \t -1 \t 3\n",
      "yellow \t 2 \t 2 \t 1\n",
      "white \t 0 \t -1 \t -1\n",
      "\n",
      "move the camel forward, but not with anything above it yet\n",
      "Color \t Loc \t Above \t Below\n",
      "orange \t 2 \t 1 \t -1\n",
      "blue \t 2 \t 3 \t 0\n",
      "green \t 2 \t -1 \t 3\n",
      "yellow \t 2 \t 2 \t 1\n",
      "white \t 0 \t -1 \t -1\n",
      "\n",
      "move all camels ontop of this one forward\n",
      "Color \t Loc \t Above \t Below\n",
      "orange \t 2 \t 1 \t -1\n",
      "blue \t 2 \t 3 \t 0\n",
      "green \t 2 \t -1 \t 3\n",
      "yellow \t 2 \t 2 \t 1\n",
      "white \t 0 \t -1 \t -1\n",
      "\n"
     ]
    }
   ],
   "source": [
    "all_camels = move_camel_to(2,2,all_camels)"
   ]
  },
  {
   "cell_type": "code",
   "execution_count": 10,
   "metadata": {
    "collapsed": false
   },
   "outputs": [
    {
     "name": "stdout",
     "output_type": "stream",
     "text": [
      "Remove camel_above of camel directly below?\n",
      "Color \t Loc \t Above \t Below\n",
      "orange \t 2 \t 1 \t -1\n",
      "blue \t 2 \t 3 \t 0\n",
      "green \t 2 \t -1 \t 3\n",
      "yellow \t 2 \t 2 \t 1\n",
      "white \t 0 \t -1 \t -1\n",
      "\n",
      "is there is already a camel in the new square? if so, put this camel to the top?\n",
      "Color \t Loc \t Above \t Below\n",
      "orange \t 2 \t 1 \t -1\n",
      "blue \t 2 \t 3 \t 0\n",
      "green \t 2 \t 4 \t 3\n",
      "yellow \t 2 \t 2 \t 1\n",
      "white \t 0 \t -1 \t 2\n",
      "\n",
      "move the camel forward, but not with anything above it yet\n",
      "Color \t Loc \t Above \t Below\n",
      "orange \t 2 \t 1 \t -1\n",
      "blue \t 2 \t 3 \t 0\n",
      "green \t 2 \t 4 \t 3\n",
      "yellow \t 2 \t 2 \t 1\n",
      "white \t 2 \t -1 \t 2\n",
      "\n",
      "move all camels ontop of this one forward\n",
      "Color \t Loc \t Above \t Below\n",
      "orange \t 2 \t 1 \t -1\n",
      "blue \t 2 \t 3 \t 0\n",
      "green \t 2 \t 4 \t 3\n",
      "yellow \t 2 \t 2 \t 1\n",
      "white \t 2 \t -1 \t 2\n",
      "\n"
     ]
    }
   ],
   "source": [
    "all_camels = move_camel_to(4,2,all_camels)"
   ]
  },
  {
   "cell_type": "code",
   "execution_count": 11,
   "metadata": {
    "collapsed": false
   },
   "outputs": [
    {
     "name": "stdout",
     "output_type": "stream",
     "text": [
      "Remove camel_above of camel directly below?\n",
      "Color \t Loc \t Above \t Below\n",
      "orange \t 2 \t 1 \t -1\n",
      "blue \t 2 \t -1 \t 0\n",
      "green \t 2 \t 4 \t 3\n",
      "yellow \t 2 \t 2 \t -1\n",
      "white \t 2 \t -1 \t 2\n",
      "\n",
      "is there is already a camel in the new square? if so, put this camel to the top?\n",
      "Color \t Loc \t Above \t Below\n",
      "orange \t 2 \t 1 \t -1\n",
      "blue \t 2 \t -1 \t 0\n",
      "green \t 2 \t 4 \t 3\n",
      "yellow \t 2 \t 2 \t -1\n",
      "white \t 2 \t -1 \t 2\n",
      "\n",
      "move the camel forward, but not with anything above it yet\n",
      "Color \t Loc \t Above \t Below\n",
      "orange \t 2 \t 1 \t -1\n",
      "blue \t 2 \t -1 \t 0\n",
      "green \t 2 \t 4 \t 3\n",
      "yellow \t 3 \t 2 \t -1\n",
      "white \t 2 \t -1 \t 2\n",
      "\n",
      "move all camels ontop of this one forward\n",
      "Color \t Loc \t Above \t Below\n",
      "orange \t 2 \t 1 \t -1\n",
      "blue \t 2 \t -1 \t 0\n",
      "green \t 3 \t 4 \t 3\n",
      "yellow \t 3 \t 2 \t -1\n",
      "white \t 3 \t -1 \t 2\n",
      "\n"
     ]
    }
   ],
   "source": [
    "all_camels = move_camel_to(3,3,all_camels)"
   ]
  },
  {
   "cell_type": "code",
   "execution_count": 12,
   "metadata": {
    "collapsed": false
   },
   "outputs": [
    {
     "name": "stdout",
     "output_type": "stream",
     "text": [
      "Remove camel_above of camel directly below?\n",
      "Color \t Loc \t Above \t Below\n",
      "orange \t 2 \t -1 \t -1\n",
      "blue \t 2 \t -1 \t -1\n",
      "green \t 3 \t 4 \t 3\n",
      "yellow \t 3 \t 2 \t -1\n",
      "white \t 3 \t -1 \t 2\n",
      "\n",
      "is there is already a camel in the new square? if so, put this camel to the top?\n",
      "Color \t Loc \t Above \t Below\n",
      "orange \t 2 \t -1 \t -1\n",
      "blue \t 2 \t -1 \t -1\n",
      "green \t 3 \t 4 \t 3\n",
      "yellow \t 3 \t 2 \t -1\n",
      "white \t 3 \t -1 \t 2\n",
      "\n",
      "move the camel forward, but not with anything above it yet\n",
      "Color \t Loc \t Above \t Below\n",
      "orange \t 2 \t -1 \t -1\n",
      "blue \t 4 \t -1 \t -1\n",
      "green \t 3 \t 4 \t 3\n",
      "yellow \t 3 \t 2 \t -1\n",
      "white \t 3 \t -1 \t 2\n",
      "\n",
      "move all camels ontop of this one forward\n",
      "Color \t Loc \t Above \t Below\n",
      "orange \t 2 \t -1 \t -1\n",
      "blue \t 4 \t -1 \t -1\n",
      "green \t 3 \t 4 \t 3\n",
      "yellow \t 3 \t 2 \t -1\n",
      "white \t 3 \t -1 \t 2\n",
      "\n"
     ]
    }
   ],
   "source": [
    "all_camels = move_camel_to(1,4,all_camels)"
   ]
  },
  {
   "cell_type": "code",
   "execution_count": 13,
   "metadata": {
    "collapsed": false
   },
   "outputs": [
    {
     "name": "stdout",
     "output_type": "stream",
     "text": [
      "Remove camel_above of camel directly below?\n",
      "Color \t Loc \t Above \t Below\n",
      "orange \t 2 \t -1 \t -1\n",
      "blue \t 4 \t -1 \t -1\n",
      "green \t 3 \t 4 \t 3\n",
      "yellow \t 3 \t 2 \t -1\n",
      "white \t 3 \t -1 \t 2\n",
      "\n",
      "is there is already a camel in the new square? if so, put this camel to the top?\n",
      "Color \t Loc \t Above \t Below\n",
      "orange \t 2 \t -1 \t -1\n",
      "blue \t 4 \t 3 \t -1\n",
      "green \t 3 \t 4 \t 3\n",
      "yellow \t 3 \t 2 \t 1\n",
      "white \t 3 \t -1 \t 2\n",
      "\n",
      "move the camel forward, but not with anything above it yet\n",
      "Color \t Loc \t Above \t Below\n",
      "orange \t 2 \t -1 \t -1\n",
      "blue \t 4 \t 3 \t -1\n",
      "green \t 3 \t 4 \t 3\n",
      "yellow \t 4 \t 2 \t 1\n",
      "white \t 3 \t -1 \t 2\n",
      "\n",
      "move all camels ontop of this one forward\n",
      "Color \t Loc \t Above \t Below\n",
      "orange \t 2 \t -1 \t -1\n",
      "blue \t 4 \t 3 \t -1\n",
      "green \t 4 \t 4 \t 3\n",
      "yellow \t 4 \t 2 \t 1\n",
      "white \t 4 \t -1 \t 2\n",
      "\n"
     ]
    }
   ],
   "source": [
    "all_camels = move_camel_to(3,4,all_camels)"
   ]
  },
  {
   "cell_type": "code",
   "execution_count": null,
   "metadata": {
    "collapsed": true
   },
   "outputs": [],
   "source": []
  }
 ],
 "metadata": {
  "anaconda-cloud": {},
  "kernelspec": {
   "display_name": "Python [anaconda3]",
   "language": "python",
   "name": "Python [anaconda3]"
  },
  "language_info": {
   "codemirror_mode": {
    "name": "ipython",
    "version": 3
   },
   "file_extension": ".py",
   "mimetype": "text/x-python",
   "name": "python",
   "nbconvert_exporter": "python",
   "pygments_lexer": "ipython3",
   "version": "3.5.2"
  }
 },
 "nbformat": 4,
 "nbformat_minor": 1
}
