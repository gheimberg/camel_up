{
 "cells": [
  {
   "cell_type": "code",
   "execution_count": 87,
   "metadata": {},
   "outputs": [],
   "source": [
    "## Camel (C)Up\n",
    "\n",
    "import random\n",
    "\n",
    "# 1-3 dice roll function\n",
    "def dice_roll():\n",
    "    Output = random.randint(1, 3)\n",
    "    return Output\n"
   ]
  },
  {
   "cell_type": "code",
   "execution_count": 88,
   "metadata": {},
   "outputs": [],
   "source": [
    "\n",
    "class camel:\n",
    "    # define the camel object\n",
    "    #    - stores all important info about a single camel\n",
    "    \n",
    "    def __init__(self, color):\n",
    "        # which camel is directly above the current camel; -1 for none\n",
    "        self.camel_above = -1\n",
    "        # which camel is directly below the current camel; -1 for none\n",
    "        self.camel_below = -1\n",
    "        # where is the current camel on the board\n",
    "        self.square = 0\n",
    "        # camel color\n",
    "        self.color = color\n",
    "        "
   ]
  },
  {
   "cell_type": "code",
   "execution_count": 89,
   "metadata": {},
   "outputs": [],
   "source": [
    "def move_camel_to(curr_camel_ind, new_square, all_camels):\n",
    "    curr_camel = all_camels[curr_camel_ind]\n",
    "    # if there is a camel on that square below curr_camel, change it to top...aka remove camel_above for camel below curr_camel\n",
    "    for i,camel in enumerate(all_camels):\n",
    "        if (camel.square == curr_camel.square) and (camel.camel_above == curr_camel_ind):\n",
    "            # remove any camel above i.e. change below camel to new top\n",
    "            all_camels[i].camel_above = -1\n",
    "            # change current camel to new bottom\n",
    "            all_camels[curr_camel_ind].camel_below = -1\n",
    "            \n",
    "\n",
    "    # if a camel is already in the space, put this camel above it\n",
    "    for i,camel in enumerate(all_camels):\n",
    "        if (camel.square == new_square) and (camel.camel_above == -1) and (i != curr_camel_ind):\n",
    "            all_camels[i].camel_above = curr_camel_ind\n",
    "            all_camels[curr_camel_ind].camel_below = i\n",
    "            \n",
    "    # move the current camel forward\n",
    "    curr_camel.square = new_square\n",
    "    \n",
    "    # move the board position of all respective camels above\n",
    "    camel_ontop = curr_camel.camel_above\n",
    "    while camel_ontop != -1:\n",
    "        all_camels[camel_ontop].square = new_square\n",
    "        camel_ontop = all_camels[camel_ontop].camel_above\n",
    "\n",
    "    # return new camel states\n",
    "    return all_camels\n",
    "\n",
    "def print_camel_states(all_camels):\n",
    "    print(\"Color\", '\\t', \"Loc\", '\\t', \"Above\", '\\t', \"Below\")\n",
    "    for camel in all_camels:\n",
    "        print(camel.color, '\\t', camel.square, '\\t', camel.camel_above, '\\t', camel.camel_below)\n",
    "    print()\n",
    "    "
   ]
  },
  {
   "cell_type": "code",
   "execution_count": 90,
   "metadata": {},
   "outputs": [],
   "source": [
    "def clear_board():\n",
    "    all_camels = []\n",
    "    for color in ['orange', 'blue', 'green', 'yellow', 'white']:\n",
    "        all_camels.append(camel(color))\n",
    "#    print_camel_states(all_camels)\n",
    "    return all_camels\n",
    "#all_camels is a list of OBJECTs not camels\n",
    "#print(all_camels) \n",
    "\n",
    "\n",
    "\n",
    "#No longer needed due to print_camel_states function\n",
    "#for curr_camel in all_camels:\n",
    "    #print(curr_camel.color)\n",
    "\n",
    "#Same as above but funky python syntax\n",
    "#[print(curr_camel.color) for curr_camel in all_camels]"
   ]
  },
  {
   "cell_type": "code",
   "execution_count": 91,
   "metadata": {},
   "outputs": [],
   "source": [
    "# initalizes all_camels as a variable\n",
    "all_camels = clear_board()"
   ]
  },
  {
   "cell_type": "code",
   "execution_count": 92,
   "metadata": {},
   "outputs": [],
   "source": [
    "# recursive function that places the camel and then calls to place the camel above\n",
    "# will only run on bottom camels due to print_board function\n",
    "def place_camel_and_above(camel_ind, all_camels, board):\n",
    "    # place the current camel\n",
    "    board[all_camels[camel_ind].square].append(all_camels[camel_ind].color)\n",
    "    # move pointer to camel above\n",
    "    camel_above_ind = all_camels[camel_ind].camel_above\n",
    "    # if this camel is the top, return the board\n",
    "    if camel_above_ind == -1:\n",
    "        return board\n",
    "    # if there is a camel above call the function on the camel above current\n",
    "    else:\n",
    "        board = place_camel_and_above(camel_above_ind, all_camels, board)\n",
    "    return board\n",
    "    \n",
    "\n",
    "def print_board(all_camels):\n",
    "    # initialize the board\n",
    "    board  = [[] for i in range(20)]\n",
    "    # list over camels\n",
    "    for camel_ind,camel in enumerate(all_camels):\n",
    "        if camel.camel_below == -1:\n",
    "            # if the camel is at the bottom of the stack, call the function to place the rest of the stack\n",
    "            board = place_camel_and_above(camel_ind, all_camels, board)\n",
    "    # right is top\n",
    "    [print(square) for square in board]\n"
   ]
  },
  {
   "cell_type": "code",
   "execution_count": 93,
   "metadata": {},
   "outputs": [],
   "source": [
    "#NEED TO FIX THIS UP SO IT STOPS PROPERLY AND ERRORS PROPERLY\n",
    "\n",
    "def run_leg(all_camels):\n",
    "    remaining_camels = [0,1,2,3,4]\n",
    "    random.shuffle(remaining_camels)\n",
    "\n",
    "    # WIP - ADD CHECK FOR IF GAME IS OVER\n",
    "    #for camel_ind,camel in enumerate(all_camels):\n",
    "    #    if camel.square > 16:\n",
    "    #        print(\"Game already over\")\n",
    "    #        break\n",
    "            \n",
    "    \n",
    "    for i in range(5):\n",
    "        camel_choice = remaining_camels.pop()\n",
    "        all_camels = move_camel_to(camel_choice,all_camels[camel_choice].square + dice_roll(),all_camels)\n",
    "    \n",
    "    # WIP - ADD CHECK IF GAME IS OVER AND END\n",
    "    #if all_camels[camel_choice].square > 16:\n",
    "    #        print(\"Game Over\")\n",
    "    #        break\n",
    "            # insert logic here to output order of winners/losers\n",
    "# for debugging\n",
    "    print_board(all_camels)\n",
    "#    print_camel_states(all_camels)\n",
    "    return all_camels"
   ]
  },
  {
   "cell_type": "code",
   "execution_count": 94,
   "metadata": {},
   "outputs": [],
   "source": [
    "# Starting positions\n",
    "# initialize board\n",
    "def start_game(all_camels):\n",
    "    all_camels = clear_board()\n",
    "    run_leg(all_camels)\n",
    "    return all_camels"
   ]
  },
  {
   "cell_type": "code",
   "execution_count": 95,
   "metadata": {
    "scrolled": false
   },
   "outputs": [
    {
     "name": "stdout",
     "output_type": "stream",
     "text": [
      "[]\n",
      "['white', 'yellow']\n",
      "[]\n",
      "['orange', 'green', 'blue']\n",
      "[]\n",
      "[]\n",
      "[]\n",
      "[]\n",
      "[]\n",
      "[]\n",
      "[]\n",
      "[]\n",
      "[]\n",
      "[]\n",
      "[]\n",
      "[]\n",
      "[]\n",
      "[]\n",
      "[]\n",
      "[]\n"
     ]
    }
   ],
   "source": [
    "all_camels = start_game(all_camels)"
   ]
  },
  {
   "cell_type": "code",
   "execution_count": 101,
   "metadata": {
    "scrolled": false
   },
   "outputs": [
    {
     "ename": "IndexError",
     "evalue": "list index out of range",
     "output_type": "error",
     "traceback": [
      "\u001b[0;31m---------------------------------------------------------------------------\u001b[0m",
      "\u001b[0;31mIndexError\u001b[0m                                Traceback (most recent call last)",
      "\u001b[0;32m<ipython-input-101-9959c849361c>\u001b[0m in \u001b[0;36m<module>\u001b[0;34m()\u001b[0m\n\u001b[0;32m----> 1\u001b[0;31m \u001b[0mall_camels\u001b[0m \u001b[0;34m=\u001b[0m \u001b[0mrun_leg\u001b[0m\u001b[0;34m(\u001b[0m\u001b[0mall_camels\u001b[0m\u001b[0;34m)\u001b[0m\u001b[0;34m\u001b[0m\u001b[0m\n\u001b[0m",
      "\u001b[0;32m<ipython-input-93-27f94179eb93>\u001b[0m in \u001b[0;36mrun_leg\u001b[0;34m(all_camels)\u001b[0m\n\u001b[1;32m     22\u001b[0m             \u001b[0;31m# insert logic here to output order of winners/losers\u001b[0m\u001b[0;34m\u001b[0m\u001b[0;34m\u001b[0m\u001b[0m\n\u001b[1;32m     23\u001b[0m \u001b[0;31m# for debugging\u001b[0m\u001b[0;34m\u001b[0m\u001b[0;34m\u001b[0m\u001b[0m\n\u001b[0;32m---> 24\u001b[0;31m     \u001b[0mprint_board\u001b[0m\u001b[0;34m(\u001b[0m\u001b[0mall_camels\u001b[0m\u001b[0;34m)\u001b[0m\u001b[0;34m\u001b[0m\u001b[0m\n\u001b[0m\u001b[1;32m     25\u001b[0m \u001b[0;31m#    print_camel_states(all_camels)\u001b[0m\u001b[0;34m\u001b[0m\u001b[0;34m\u001b[0m\u001b[0m\n\u001b[1;32m     26\u001b[0m     \u001b[0;32mreturn\u001b[0m \u001b[0mall_camels\u001b[0m\u001b[0;34m\u001b[0m\u001b[0m\n",
      "\u001b[0;32m<ipython-input-92-3c84a170e5b5>\u001b[0m in \u001b[0;36mprint_board\u001b[0;34m(all_camels)\u001b[0m\n\u001b[1;32m     22\u001b[0m         \u001b[0;32mif\u001b[0m \u001b[0mcamel\u001b[0m\u001b[0;34m.\u001b[0m\u001b[0mcamel_below\u001b[0m \u001b[0;34m==\u001b[0m \u001b[0;34m-\u001b[0m\u001b[0;36m1\u001b[0m\u001b[0;34m:\u001b[0m\u001b[0;34m\u001b[0m\u001b[0m\n\u001b[1;32m     23\u001b[0m             \u001b[0;31m# if the camel is at the bottom of the stack, call the function to place the rest of the stack\u001b[0m\u001b[0;34m\u001b[0m\u001b[0;34m\u001b[0m\u001b[0m\n\u001b[0;32m---> 24\u001b[0;31m             \u001b[0mboard\u001b[0m \u001b[0;34m=\u001b[0m \u001b[0mplace_camel_and_above\u001b[0m\u001b[0;34m(\u001b[0m\u001b[0mcamel_ind\u001b[0m\u001b[0;34m,\u001b[0m \u001b[0mall_camels\u001b[0m\u001b[0;34m,\u001b[0m \u001b[0mboard\u001b[0m\u001b[0;34m)\u001b[0m\u001b[0;34m\u001b[0m\u001b[0m\n\u001b[0m\u001b[1;32m     25\u001b[0m     \u001b[0;31m# right is top\u001b[0m\u001b[0;34m\u001b[0m\u001b[0;34m\u001b[0m\u001b[0m\n\u001b[1;32m     26\u001b[0m     \u001b[0;34m[\u001b[0m\u001b[0mprint\u001b[0m\u001b[0;34m(\u001b[0m\u001b[0msquare\u001b[0m\u001b[0;34m)\u001b[0m \u001b[0;32mfor\u001b[0m \u001b[0msquare\u001b[0m \u001b[0;32min\u001b[0m \u001b[0mboard\u001b[0m\u001b[0;34m]\u001b[0m\u001b[0;34m\u001b[0m\u001b[0m\n",
      "\u001b[0;32m<ipython-input-92-3c84a170e5b5>\u001b[0m in \u001b[0;36mplace_camel_and_above\u001b[0;34m(camel_ind, all_camels, board)\u001b[0m\n\u001b[1;32m      3\u001b[0m \u001b[0;32mdef\u001b[0m \u001b[0mplace_camel_and_above\u001b[0m\u001b[0;34m(\u001b[0m\u001b[0mcamel_ind\u001b[0m\u001b[0;34m,\u001b[0m \u001b[0mall_camels\u001b[0m\u001b[0;34m,\u001b[0m \u001b[0mboard\u001b[0m\u001b[0;34m)\u001b[0m\u001b[0;34m:\u001b[0m\u001b[0;34m\u001b[0m\u001b[0m\n\u001b[1;32m      4\u001b[0m     \u001b[0;31m# place the current camel\u001b[0m\u001b[0;34m\u001b[0m\u001b[0;34m\u001b[0m\u001b[0m\n\u001b[0;32m----> 5\u001b[0;31m     \u001b[0mboard\u001b[0m\u001b[0;34m[\u001b[0m\u001b[0mall_camels\u001b[0m\u001b[0;34m[\u001b[0m\u001b[0mcamel_ind\u001b[0m\u001b[0;34m]\u001b[0m\u001b[0;34m.\u001b[0m\u001b[0msquare\u001b[0m\u001b[0;34m]\u001b[0m\u001b[0;34m.\u001b[0m\u001b[0mappend\u001b[0m\u001b[0;34m(\u001b[0m\u001b[0mall_camels\u001b[0m\u001b[0;34m[\u001b[0m\u001b[0mcamel_ind\u001b[0m\u001b[0;34m]\u001b[0m\u001b[0;34m.\u001b[0m\u001b[0mcolor\u001b[0m\u001b[0;34m)\u001b[0m\u001b[0;34m\u001b[0m\u001b[0m\n\u001b[0m\u001b[1;32m      6\u001b[0m     \u001b[0;31m# move pointer to camel above\u001b[0m\u001b[0;34m\u001b[0m\u001b[0;34m\u001b[0m\u001b[0m\n\u001b[1;32m      7\u001b[0m     \u001b[0mcamel_above_ind\u001b[0m \u001b[0;34m=\u001b[0m \u001b[0mall_camels\u001b[0m\u001b[0;34m[\u001b[0m\u001b[0mcamel_ind\u001b[0m\u001b[0;34m]\u001b[0m\u001b[0;34m.\u001b[0m\u001b[0mcamel_above\u001b[0m\u001b[0;34m\u001b[0m\u001b[0m\n",
      "\u001b[0;31mIndexError\u001b[0m: list index out of range"
     ]
    }
   ],
   "source": [
    "all_camels = run_leg(all_camels)"
   ]
  },
  {
   "cell_type": "code",
   "execution_count": 71,
   "metadata": {},
   "outputs": [
    {
     "name": "stdout",
     "output_type": "stream",
     "text": [
      "Color \t Loc \t Above \t Below\n",
      "orange \t 0 \t -1 \t -1\n",
      "blue \t 2 \t -1 \t -1\n",
      "green \t 1 \t -1 \t -1\n",
      "yellow \t 0 \t -1 \t -1\n",
      "white \t 0 \t -1 \t -1\n",
      "\n"
     ]
    }
   ],
   "source": [
    "print_camel_states(all_camels)"
   ]
  },
  {
   "cell_type": "code",
   "execution_count": 12,
   "metadata": {},
   "outputs": [],
   "source": [
    "all_camels = move_camel_to(0,2,all_camels)"
   ]
  },
  {
   "cell_type": "code",
   "execution_count": 13,
   "metadata": {},
   "outputs": [
    {
     "name": "stdout",
     "output_type": "stream",
     "text": [
      "Color \t Loc \t Above \t Below\n",
      "orange \t 2 \t -1 \t -1\n",
      "blue \t 0 \t -1 \t -1\n",
      "green \t 1 \t 4 \t -1\n",
      "yellow \t 0 \t -1 \t -1\n",
      "white \t 1 \t -1 \t 2\n",
      "\n"
     ]
    }
   ],
   "source": [
    "print_camel_states(all_camels)"
   ]
  },
  {
   "cell_type": "code",
   "execution_count": 14,
   "metadata": {},
   "outputs": [],
   "source": [
    "all_camels = move_camel_to(1,2,all_camels)"
   ]
  },
  {
   "cell_type": "code",
   "execution_count": 15,
   "metadata": {},
   "outputs": [],
   "source": [
    "all_camels = move_camel_to(3,2,all_camels)"
   ]
  },
  {
   "cell_type": "code",
   "execution_count": 16,
   "metadata": {},
   "outputs": [],
   "source": [
    "all_camels = move_camel_to(2,2,all_camels)"
   ]
  },
  {
   "cell_type": "code",
   "execution_count": 17,
   "metadata": {},
   "outputs": [],
   "source": [
    "all_camels = move_camel_to(4,2,all_camels)"
   ]
  },
  {
   "cell_type": "code",
   "execution_count": 18,
   "metadata": {},
   "outputs": [],
   "source": [
    "all_camels = move_camel_to(3,3,all_camels)"
   ]
  },
  {
   "cell_type": "code",
   "execution_count": 19,
   "metadata": {},
   "outputs": [],
   "source": [
    "all_camels = move_camel_to(1,4,all_camels)"
   ]
  },
  {
   "cell_type": "code",
   "execution_count": 20,
   "metadata": {},
   "outputs": [],
   "source": [
    "all_camels = move_camel_to(3,4,all_camels)"
   ]
  },
  {
   "cell_type": "code",
   "execution_count": 21,
   "metadata": {},
   "outputs": [
    {
     "name": "stdout",
     "output_type": "stream",
     "text": [
      "[]\n",
      "[]\n",
      "['orange']\n",
      "[]\n",
      "['blue', 'yellow', 'green', 'white']\n",
      "[]\n",
      "[]\n",
      "[]\n",
      "[]\n",
      "[]\n",
      "[]\n",
      "[]\n",
      "[]\n",
      "[]\n",
      "[]\n",
      "[]\n",
      "[]\n",
      "[]\n",
      "[]\n",
      "[]\n"
     ]
    }
   ],
   "source": [
    "print_board(all_camels)"
   ]
  },
  {
   "cell_type": "code",
   "execution_count": null,
   "metadata": {},
   "outputs": [],
   "source": []
  },
  {
   "cell_type": "code",
   "execution_count": null,
   "metadata": {},
   "outputs": [],
   "source": []
  }
 ],
 "metadata": {
  "anaconda-cloud": {},
  "kernelspec": {
   "display_name": "py3",
   "language": "python",
   "name": "py3"
  },
  "language_info": {
   "codemirror_mode": {
    "name": "ipython",
    "version": 3
   },
   "file_extension": ".py",
   "mimetype": "text/x-python",
   "name": "python",
   "nbconvert_exporter": "python",
   "pygments_lexer": "ipython3",
   "version": "3.5.2"
  }
 },
 "nbformat": 4,
 "nbformat_minor": 1
}
