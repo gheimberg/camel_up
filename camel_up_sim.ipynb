{
 "cells": [
  {
   "cell_type": "code",
   "execution_count": 1,
   "metadata": {
    "collapsed": true
   },
   "outputs": [],
   "source": [
    "## Camel Cup\n",
    "\n",
    "class camel:\n",
    "    # define the camel object\n",
    "    #    - stores all important info about a single camel\n",
    "    \n",
    "    def __init__(self, color):\n",
    "        # which camel is directly above the current camel\n",
    "        self.camel_above = []\n",
    "        # where is the current camel on the board\n",
    "        self.square = 0\n",
    "        self.color = color\n",
    "        "
   ]
  },
  {
   "cell_type": "code",
   "execution_count": 2,
   "metadata": {
    "collapsed": false
   },
   "outputs": [],
   "source": [
    "def move_camel_to(curr_camel_ind, new_square, all_camels):\n",
    "    curr_camel = all_camels[curr_camel_ind]\n",
    "    \n",
    "    # if there is a camel on that square below curr_camel, change it to top\n",
    "    for i,camel in enumerate(all_camels):\n",
    "        if (camel.square == curr_camel.square) and (camel.camel_above == curr_camel):\n",
    "            all_camels[i].camel_above = []\n",
    "            \n",
    "    # check updated state\n",
    "    print('is this camel ontop of another? if so, change that to top')\n",
    "    print_camel_states(all_camels)\n",
    "    \n",
    "    # if a camel is already in the space, put this camel above it\n",
    "    for i,camel in enumerate(all_camels):\n",
    "        if (camel.square == new_square) and (not camel.camel_above):\n",
    "            all_camels[i].camel_above = curr_camel_ind\n",
    "            \n",
    "    # check updated state\n",
    "    print('is there is already a camel in the new square? if so, put this above it')    \n",
    "    print_camel_states(all_camels)            \n",
    "            \n",
    "    # move the current camel forward\n",
    "    curr_camel.square = new_square\n",
    "    \n",
    "    # check updated state\n",
    "    print('move the camel forward')\n",
    "    print_camel_states(all_camels)            \n",
    "\n",
    "    # move the board position of all respective camels above\n",
    "    if curr_camel.camel_above:\n",
    "        camel_ontop = all_camels[curr_camel.camel_above]\n",
    "        print(camel_ontop.camel_above)\n",
    "        while camel_ontop:\n",
    "            all_camels[curr_camel.camel_above].square = new_square\n",
    "            camel_ontop = camel_ontop.camel_above\n",
    "\n",
    "    # check updated state\n",
    "    print('move all camels ontop of this one forward')\n",
    "    print_camel_states(all_camels)\n",
    "    \n",
    "    # return new camel states\n",
    "    return all_camels\n",
    "\n",
    "def print_camel_states(all_camels):\n",
    "    for camel in all_camels:\n",
    "        print(camel.color + ': ----')\n",
    "        print('square: ' + str(camel.square))\n",
    "        print('above: ' + str(camel.camel_above))\n",
    "    print()\n"
   ]
  },
  {
   "cell_type": "code",
   "execution_count": 4,
   "metadata": {
    "collapsed": false
   },
   "outputs": [
    {
     "name": "stdout",
     "output_type": "stream",
     "text": [
      "red: ----\n",
      "square: 0\n",
      "above: []\n",
      "blue: ----\n",
      "square: 0\n",
      "above: []\n",
      "green: ----\n",
      "square: 0\n",
      "above: []\n",
      "yellow: ----\n",
      "square: 0\n",
      "above: []\n",
      "white: ----\n",
      "square: 0\n",
      "above: []\n",
      "\n"
     ]
    }
   ],
   "source": [
    "all_camels = []\n",
    "for color in ['red', 'blue', 'green', 'yellow', 'white']:\n",
    "    all_camels.append(camel(color))\n",
    "\n",
    "print_camel_states(all_camels)"
   ]
  },
  {
   "cell_type": "code",
   "execution_count": 5,
   "metadata": {
    "collapsed": false
   },
   "outputs": [
    {
     "name": "stdout",
     "output_type": "stream",
     "text": [
      "is this camel ontop of another? if so, change that to top\n",
      "red: ----\n",
      "square: 0\n",
      "above: []\n",
      "blue: ----\n",
      "square: 0\n",
      "above: []\n",
      "green: ----\n",
      "square: 0\n",
      "above: []\n",
      "yellow: ----\n",
      "square: 0\n",
      "above: []\n",
      "white: ----\n",
      "square: 0\n",
      "above: []\n",
      "\n",
      "is there is already a camel in the new square? if so, put this above it\n",
      "red: ----\n",
      "square: 0\n",
      "above: []\n",
      "blue: ----\n",
      "square: 0\n",
      "above: []\n",
      "green: ----\n",
      "square: 0\n",
      "above: []\n",
      "yellow: ----\n",
      "square: 0\n",
      "above: []\n",
      "white: ----\n",
      "square: 0\n",
      "above: []\n",
      "\n",
      "move the camel forward\n",
      "red: ----\n",
      "square: 0\n",
      "above: []\n",
      "blue: ----\n",
      "square: 0\n",
      "above: []\n",
      "green: ----\n",
      "square: 2\n",
      "above: []\n",
      "yellow: ----\n",
      "square: 0\n",
      "above: []\n",
      "white: ----\n",
      "square: 0\n",
      "above: []\n",
      "\n",
      "move all camels ontop of this one forward\n",
      "red: ----\n",
      "square: 0\n",
      "above: []\n",
      "blue: ----\n",
      "square: 0\n",
      "above: []\n",
      "green: ----\n",
      "square: 2\n",
      "above: []\n",
      "yellow: ----\n",
      "square: 0\n",
      "above: []\n",
      "white: ----\n",
      "square: 0\n",
      "above: []\n",
      "\n"
     ]
    },
    {
     "data": {
      "text/plain": [
       "[<__main__.camel at 0x7f52a83fdd30>,\n",
       " <__main__.camel at 0x7f52a83fdd68>,\n",
       " <__main__.camel at 0x7f52a83fddd8>,\n",
       " <__main__.camel at 0x7f52a83fde10>,\n",
       " <__main__.camel at 0x7f52a83fde48>]"
      ]
     },
     "execution_count": 5,
     "metadata": {},
     "output_type": "execute_result"
    }
   ],
   "source": [
    "move_camel_to(2,2,all_camels)"
   ]
  },
  {
   "cell_type": "code",
   "execution_count": 6,
   "metadata": {
    "collapsed": false
   },
   "outputs": [
    {
     "name": "stdout",
     "output_type": "stream",
     "text": [
      "is this camel ontop of another? if so, change that to top\n",
      "red: ----\n",
      "square: 0\n",
      "above: []\n",
      "blue: ----\n",
      "square: 0\n",
      "above: []\n",
      "green: ----\n",
      "square: 2\n",
      "above: []\n",
      "yellow: ----\n",
      "square: 0\n",
      "above: []\n",
      "white: ----\n",
      "square: 0\n",
      "above: []\n",
      "\n",
      "is there is already a camel in the new square? if so, put this above it\n",
      "red: ----\n",
      "square: 0\n",
      "above: []\n",
      "blue: ----\n",
      "square: 0\n",
      "above: []\n",
      "green: ----\n",
      "square: 2\n",
      "above: 1\n",
      "yellow: ----\n",
      "square: 0\n",
      "above: []\n",
      "white: ----\n",
      "square: 0\n",
      "above: []\n",
      "\n",
      "move the camel forward\n",
      "red: ----\n",
      "square: 0\n",
      "above: []\n",
      "blue: ----\n",
      "square: 2\n",
      "above: []\n",
      "green: ----\n",
      "square: 2\n",
      "above: 1\n",
      "yellow: ----\n",
      "square: 0\n",
      "above: []\n",
      "white: ----\n",
      "square: 0\n",
      "above: []\n",
      "\n",
      "move all camels ontop of this one forward\n",
      "red: ----\n",
      "square: 0\n",
      "above: []\n",
      "blue: ----\n",
      "square: 2\n",
      "above: []\n",
      "green: ----\n",
      "square: 2\n",
      "above: 1\n",
      "yellow: ----\n",
      "square: 0\n",
      "above: []\n",
      "white: ----\n",
      "square: 0\n",
      "above: []\n",
      "\n"
     ]
    },
    {
     "data": {
      "text/plain": [
       "[<__main__.camel at 0x7f52a83fdd30>,\n",
       " <__main__.camel at 0x7f52a83fdd68>,\n",
       " <__main__.camel at 0x7f52a83fddd8>,\n",
       " <__main__.camel at 0x7f52a83fde10>,\n",
       " <__main__.camel at 0x7f52a83fde48>]"
      ]
     },
     "execution_count": 6,
     "metadata": {},
     "output_type": "execute_result"
    }
   ],
   "source": [
    "move_camel_to(1,2,all_camels)"
   ]
  },
  {
   "cell_type": "code",
   "execution_count": 7,
   "metadata": {
    "collapsed": false
   },
   "outputs": [
    {
     "name": "stdout",
     "output_type": "stream",
     "text": [
      "is this camel ontop of another? if so, change that to top\n",
      "red: ----\n",
      "square: 0\n",
      "above: []\n",
      "blue: ----\n",
      "square: 2\n",
      "above: []\n",
      "green: ----\n",
      "square: 2\n",
      "above: 1\n",
      "yellow: ----\n",
      "square: 0\n",
      "above: []\n",
      "white: ----\n",
      "square: 0\n",
      "above: []\n",
      "\n",
      "is there is already a camel in the new square? if so, put this above it\n",
      "red: ----\n",
      "square: 0\n",
      "above: []\n",
      "blue: ----\n",
      "square: 2\n",
      "above: []\n",
      "green: ----\n",
      "square: 2\n",
      "above: 1\n",
      "yellow: ----\n",
      "square: 0\n",
      "above: []\n",
      "white: ----\n",
      "square: 0\n",
      "above: []\n",
      "\n",
      "move the camel forward\n",
      "red: ----\n",
      "square: 0\n",
      "above: []\n",
      "blue: ----\n",
      "square: 2\n",
      "above: []\n",
      "green: ----\n",
      "square: 3\n",
      "above: 1\n",
      "yellow: ----\n",
      "square: 0\n",
      "above: []\n",
      "white: ----\n",
      "square: 0\n",
      "above: []\n",
      "\n",
      "[]\n",
      "move all camels ontop of this one forward\n",
      "red: ----\n",
      "square: 0\n",
      "above: []\n",
      "blue: ----\n",
      "square: 3\n",
      "above: []\n",
      "green: ----\n",
      "square: 3\n",
      "above: 1\n",
      "yellow: ----\n",
      "square: 0\n",
      "above: []\n",
      "white: ----\n",
      "square: 0\n",
      "above: []\n",
      "\n"
     ]
    },
    {
     "data": {
      "text/plain": [
       "[<__main__.camel at 0x7f52a83fdd30>,\n",
       " <__main__.camel at 0x7f52a83fdd68>,\n",
       " <__main__.camel at 0x7f52a83fddd8>,\n",
       " <__main__.camel at 0x7f52a83fde10>,\n",
       " <__main__.camel at 0x7f52a83fde48>]"
      ]
     },
     "execution_count": 7,
     "metadata": {},
     "output_type": "execute_result"
    }
   ],
   "source": [
    "move_camel_to(2,3,all_camels)"
   ]
  },
  {
   "cell_type": "code",
   "execution_count": null,
   "metadata": {
    "collapsed": true
   },
   "outputs": [],
   "source": []
  }
 ],
 "metadata": {
  "anaconda-cloud": {},
  "kernelspec": {
   "display_name": "Python [anaconda3]",
   "language": "python",
   "name": "Python [anaconda3]"
  },
  "language_info": {
   "codemirror_mode": {
    "name": "ipython",
    "version": 3
   },
   "file_extension": ".py",
   "mimetype": "text/x-python",
   "name": "python",
   "nbconvert_exporter": "python",
   "pygments_lexer": "ipython3",
   "version": "3.5.2"
  }
 },
 "nbformat": 4,
 "nbformat_minor": 0
}
